{
 "cells": [
  {
   "cell_type": "code",
   "execution_count": 210,
   "metadata": {},
   "outputs": [],
   "source": [
    "import math\n",
    "import numpy as np\n",
    "from scipy.stats import norm\n",
    "from scipy.special import gammainc\n",
    "from scipy.optimize import fsolve\n",
    "from scipy.optimize import minimize\n",
    "from scipy.stats import ncx2"
   ]
  },
  {
   "cell_type": "code",
   "execution_count": 211,
   "metadata": {},
   "outputs": [],
   "source": [
    "def LowBiasSABR(F0, K, sigma0, alpha, beta, rho, T, T_step_1year, N, annuity):\n",
    "    \"\"\" Low bias numerical scheme for SABR process. Algorithm from B. Chen, C.W. Osterlee. and H. Van Der Weide. (August 2011)\n",
    "\n",
    "       Parameters\n",
    "       ----------\n",
    "       F0: Initial forward swap rate\n",
    "       sigma0: Initial  volatility\n",
    "       alpha: vol of vol\n",
    "       beta: SABR Beta parameter\n",
    "       rho: Spot vs. Volatility correlation\n",
    "       T: Expiry of option (years)\n",
    "       T_step_1year: number of steps per year\n",
    "       N: Number of MC paths\n",
    "       Annuity: swap annuity\n",
    "\n",
    "       Returns\n",
    "       -------\n",
    "       Swaption price\n",
    "\n",
    "    \"\"\"\n",
    "\n",
    "\n",
    "    return 0"
   ]
  },
  {
   "cell_type": "code",
   "execution_count": 212,
   "metadata": {},
   "outputs": [],
   "source": [
    "F0 = 0.00\n",
    "K = 0.00\n",
    "sigma0 = 0.01 #initial vol\n",
    "alpha=1.0 #vol of vol\n",
    "beta=0.5\n",
    "rho=-0.4\n",
    "T=10.0\n",
    "T_step_1year = 10\n",
    "N=10000\n",
    "annuity = 20.0\n",
    "shift = 0.02"
   ]
  },
  {
   "cell_type": "code",
   "execution_count": 213,
   "metadata": {},
   "outputs": [],
   "source": [
    "dt = 1. / T_step_1year\n",
    "sqrtdt = np.sqrt(dt)\n",
    "total_steps = int(T * T_step_1year)\n"
   ]
  },
  {
   "cell_type": "code",
   "execution_count": 214,
   "metadata": {},
   "outputs": [],
   "source": [
    "tbeta = 2 * (1 - beta)"
   ]
  },
  {
   "cell_type": "code",
   "execution_count": 215,
   "metadata": {},
   "outputs": [],
   "source": [
    "def tosolve(x, a, b, u):\n",
    "    return 1 - ncx2.cdf(a, b, x) - u"
   ]
  },
  {
   "cell_type": "code",
   "execution_count": 216,
   "metadata": {},
   "outputs": [],
   "source": [
    "def root_chi2(a, b, u):\n",
    "    ''' inversion of the non central chi-square distribution '''\n",
    "    c0 = a\n",
    "    bnds = [(0., None)]\n",
    "    res = minimize(equation, c0, args=(a, b, u), bounds=bnds)\n",
    "    return res.x[0]\n",
    "\n",
    "def equation(c, a, b, u):\n",
    "    return 1 - ncx2.cdf(a, b, c) - u  # page 13 step 7 "
   ]
  },
  {
   "cell_type": "code",
   "execution_count": 217,
   "metadata": {},
   "outputs": [
    {
     "name": "stdout",
     "output_type": "stream",
     "text": [
      "0.01510138360600721\n"
     ]
    }
   ],
   "source": [
    "Ft = np.full(N, F0 + shift)\n",
    "sigmat = np.full(N, sigma0)\n",
    "logsigmat = np.full(N, np.log(sigma0))\n",
    "drift = - 0.5 * alpha ** 2 * sqrtdt\n",
    "\n",
    "b = 2 - (1 - 2 * beta - rho**2 * (1 - beta)) / ((1 - beta) * (1 - rho ** 2))\n",
    "\n",
    "for t in np.arange(dt, T+dt, dt):\n",
    "\n",
    "    W2 = np.random.normal(0., sqrtdt, N)\n",
    "    U1 = np.random.uniform(size=N)\n",
    "    U = np.random.uniform(size=N)\n",
    "    Z = np.random.normal(0., 1., N)\n",
    "\n",
    "    sigmat0 = sigmat\n",
    "    Ft0 = Ft\n",
    "\n",
    "    #sigmat = sigmat0 * np.exp(alpha * W2 - 0.5 * alpha ** 2 * sqrtdt) #formula in paper\n",
    "    logsigmat += alpha * W2 + drift \n",
    "    sigmat = np.exp(logsigmat)\n",
    "\n",
    "    W2_2, W2_3, W2_4 = [np.power(W2, x) for x in [2,3,4]]\n",
    "    m1 = alpha * W2\n",
    "    m2 = (alpha ** 2) * (2 * W2_2 - dt / 2) / 3.\n",
    "    m3 = (alpha ** 3) * (W2_3 - W2 * dt) / 3.\n",
    "    m4 = (alpha ** 4) * (W2_4 * 2 / 3. - W2_2 * dt * 3 / 2. + 2 * dt ** 2) / 5.\n",
    "    m = sigmat0 ** 2 * dt * (1. + m1 + m2 + m3 + m4)\n",
    "\n",
    "    v = np.power(sigmat0, 4) * alpha ** 2 * np.power(dt, 3) / 3\n",
    "\n",
    "    sigma2 = np.log(1 + v / (m ** 2))\n",
    "    sigma = np.sqrt(sigma2)\n",
    "    mu = np.log(m) - 0.5 * sigma2\n",
    "    A = np.exp(sigma * norm.ppf(U1) + mu)\n",
    "    nu = (1 - rho ** 2) * A\n",
    "\n",
    "    a = (np.power(Ft0, 1-beta) / (1-beta) + rho * (sigmat - sigmat0) / alpha) ** 2 / nu\n",
    "\n",
    "    prob = 1 - gammainc(b/2, a/2) #already normalised by Gamma(s)\n",
    "\n",
    "    # Criterion for Quadratic Exponential Scheme\n",
    "    k = 2 - b\n",
    "    lambda_ = a\n",
    "    m = k + lambda_\n",
    "    s2 = 2 * (k + 2 * lambda_)\n",
    "\n",
    "    psi = s2 / (m ** 2)\n",
    "    twooverpsi = 2. / psi\n",
    "    e2 = twooverpsi - 1. + np.sqrt(twooverpsi) * np.sqrt((twooverpsi) - 1.)\n",
    "    d = m / (1. + e2)\n",
    "\n",
    "    for n in range(0, N):\n",
    "\n",
    "        if Ft0[n] < 1e-8 or prob[n] > U[n]:\n",
    "            Ft[n] = 0.\n",
    "            continue\n",
    "\n",
    "        if psi[n] <= 1.5 and m[n] >= 0:\n",
    "            Ft[n] = np.power(((1. - beta) ** 2) * nu[n] * d[n] * ((np.sqrt(e2[n]) + Z[n]) ** 2), 1. / tbeta) \n",
    "        else:\n",
    "            cstar = fsolve(tosolve, a[n], args=(a[n], b, U[n]))\n",
    "            Ft[n] = np.power(cstar * ((1. - beta) ** 2) * nu[n], 1. / (2. - 2. * beta))\n",
    "            Ft[n] = 0\n",
    "\n",
    "payoff = np.maximum(Ft - (K + shift), 0)\n",
    "PV = annuity * np.mean(payoff)\n",
    "\n",
    "print(PV)"
   ]
  },
  {
   "cell_type": "code",
   "execution_count": 218,
   "metadata": {},
   "outputs": [],
   "source": [
    "def hagan_implied_volatility_shifted(F, K, T, alpha, beta, rho, nu, shift):\n",
    "    F_shifted = F + shift\n",
    "    K_shifted = K + shift\n",
    "\n",
    "    epsilon = 1e-07  # Small number to avoid division by zero\n",
    "    if F_shifted <= 0 or K_shifted <= 0:\n",
    "        raise ValueError(\"Shifted forward rate and strike must be positive.\")\n",
    "\n",
    "    if abs(F_shifted - K_shifted) < epsilon:\n",
    "        # When F_shifted == K_shifted, use the ATM formula\n",
    "        FK_beta = F_shifted ** (1 - beta)\n",
    "        alpha_beta = alpha / FK_beta\n",
    "\n",
    "        term1 = ((1 - beta) ** 2 / 24) * (alpha_beta) ** 2\n",
    "        term2 = (rho * beta * nu * alpha) / (4 * FK_beta)\n",
    "        term3 = (nu ** 2 * (2 - 3 * rho ** 2)) / 24\n",
    "\n",
    "        sigma = alpha_beta * (1 + (term1 + term2 + term3) * T)\n",
    "    else:\n",
    "        logFK = np.log(F_shifted / K_shifted)\n",
    "        FK_beta = (F_shifted * K_shifted) ** ((1 - beta) / 2)\n",
    "        one_minus_beta = 1 - beta\n",
    "\n",
    "        z = (nu / alpha) * FK_beta * logFK\n",
    "        x_z = np.log((np.sqrt(1 - 2 * rho * z + z ** 2) + z - rho) / (1 - rho))\n",
    "\n",
    "        # Avoid division by zero\n",
    "        if abs(x_z) < epsilon:\n",
    "            x_z = epsilon\n",
    "\n",
    "        # Volatility formula\n",
    "        numerator = alpha\n",
    "        denominator = FK_beta * (1 + ((one_minus_beta ** 2 / 24) * (logFK) ** 2) +\n",
    "                                 ((one_minus_beta ** 4 / 1920) * (logFK) ** 4))\n",
    "        sigma = (numerator / denominator) * (z / x_z)\n",
    "\n",
    "    return sigma\n",
    "\n",
    "def black_scholes_price_shifted(F, K, T, sigma, annuity, shift):\n",
    "    F_shifted = F + shift\n",
    "    K_shifted = K + shift\n",
    "\n",
    "    d1 = (np.log(F_shifted / K_shifted) + 0.5 * sigma ** 2 * T) / (sigma * np.sqrt(T))\n",
    "    d2 = d1 - sigma * np.sqrt(T)\n",
    "\n",
    "    price = annuity * (F_shifted * norm.cdf(d1) - K_shifted * norm.cdf(d2))\n",
    "    return price"
   ]
  },
  {
   "cell_type": "code",
   "execution_count": 219,
   "metadata": {},
   "outputs": [
    {
     "name": "stdout",
     "output_type": "stream",
     "text": [
      "0.0567362210854663\n"
     ]
    }
   ],
   "source": [
    "sigma_hagan_shifted = hagan_implied_volatility_shifted(F0, K, T, sigma0, beta, rho, alpha, shift)\n",
    "swaption_price_hagan_shifted = black_scholes_price_shifted(F0, K, T, sigma_hagan_shifted, annuity, shift)\n",
    "\n",
    "print(swaption_price_hagan_shifted)"
   ]
  },
  {
   "cell_type": "code",
   "execution_count": null,
   "metadata": {},
   "outputs": [],
   "source": []
  }
 ],
 "metadata": {
  "kernelspec": {
   "display_name": "Python 3",
   "language": "python",
   "name": "python3"
  },
  "language_info": {
   "codemirror_mode": {
    "name": "ipython",
    "version": 3
   },
   "file_extension": ".py",
   "mimetype": "text/x-python",
   "name": "python",
   "nbconvert_exporter": "python",
   "pygments_lexer": "ipython3",
   "version": "3.9.13"
  }
 },
 "nbformat": 4,
 "nbformat_minor": 2
}
